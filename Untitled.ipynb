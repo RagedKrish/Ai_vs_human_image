{
 "cells": [
  {
   "cell_type": "code",
   "execution_count": 6,
   "id": "90479eba-4e26-4835-8f0a-03974709546e",
   "metadata": {},
   "outputs": [
    {
     "ename": "ValueError",
     "evalue": "The truth value of a Series is ambiguous. Use a.empty, a.bool(), a.item(), a.any() or a.all().",
     "output_type": "error",
     "traceback": [
      "\u001b[1;31m---------------------------------------------------------------------------\u001b[0m",
      "\u001b[1;31mValueError\u001b[0m                                Traceback (most recent call last)",
      "\u001b[1;32m~\\AppData\\Local\\Temp\\ipykernel_147852\\1393519529.py\u001b[0m in \u001b[0;36m?\u001b[1;34m()\u001b[0m\n\u001b[1;32m----> 9\u001b[1;33m \u001b[1;32mimport\u001b[0m \u001b[0mpandas\u001b[0m \u001b[1;32mas\u001b[0m \u001b[0mpd\u001b[0m\u001b[1;33m\u001b[0m\u001b[1;33m\u001b[0m\u001b[0m\n\u001b[0m\u001b[0;32m     10\u001b[0m \u001b[1;32mfrom\u001b[0m \u001b[0msklearn\u001b[0m\u001b[1;33m.\u001b[0m\u001b[0mmodel_selection\u001b[0m \u001b[1;32mimport\u001b[0m \u001b[0mtrain_test_split\u001b[0m\u001b[1;33m\u001b[0m\u001b[1;33m\u001b[0m\u001b[0m\n\u001b[0;32m     11\u001b[0m \u001b[1;33m\u001b[0m\u001b[0m\n\u001b[0;32m     12\u001b[0m \u001b[1;31m# Load the CSV\u001b[0m\u001b[1;33m\u001b[0m\u001b[1;33m\u001b[0m\u001b[0m\n",
      "\u001b[1;32mC:\\ProgramData\\anaconda3\\envs\\cuda\\lib\\site-packages\\pandas\\core\\generic.py\u001b[0m in \u001b[0;36m?\u001b[1;34m(self)\u001b[0m\n\u001b[0;32m   1575\u001b[0m     \u001b[1;33m@\u001b[0m\u001b[0mfinal\u001b[0m\u001b[1;33m\u001b[0m\u001b[1;33m\u001b[0m\u001b[0m\n\u001b[0;32m   1576\u001b[0m     \u001b[1;32mdef\u001b[0m \u001b[0m__nonzero__\u001b[0m\u001b[1;33m(\u001b[0m\u001b[0mself\u001b[0m\u001b[1;33m)\u001b[0m \u001b[1;33m->\u001b[0m \u001b[0mNoReturn\u001b[0m\u001b[1;33m:\u001b[0m\u001b[1;33m\u001b[0m\u001b[1;33m\u001b[0m\u001b[0m\n\u001b[1;32m-> 1577\u001b[1;33m         raise ValueError(\n\u001b[0m\u001b[0;32m   1578\u001b[0m             \u001b[1;34mf\"The truth value of a {type(self).__name__} is ambiguous. \"\u001b[0m\u001b[1;33m\u001b[0m\u001b[1;33m\u001b[0m\u001b[0m\n\u001b[0;32m   1579\u001b[0m             \u001b[1;34m\"Use a.empty, a.bool(), a.item(), a.any() or a.all().\"\u001b[0m\u001b[1;33m\u001b[0m\u001b[1;33m\u001b[0m\u001b[0m\n\u001b[0;32m   1580\u001b[0m         )\n",
      "\u001b[1;31mValueError\u001b[0m: The truth value of a Series is ambiguous. Use a.empty, a.bool(), a.item(), a.any() or a.all()."
     ]
    }
   ],
   "source": [
    "import pandas as pd\n",
    "from sklearn.model_selection import train_test_split\n",
    "\n",
    "# Load the CSV\n",
    "df = pd.read_csv('train.csv')\n",
    "\n",
    "# Split into training and validation sets\n",
    "train_df, val_df = train_test_split(df, test_size=0.2, stratify=df['label'], random_state=42)\n"
   ]
  },
  {
   "cell_type": "code",
   "execution_count": 43,
   "id": "0702911c-cef7-4413-8d52-7d4c47240723",
   "metadata": {},
   "outputs": [
    {
     "name": "stdout",
     "output_type": "stream",
     "text": [
      "Found 63960 validated image filenames belonging to 2 classes.\n",
      "Found 15990 validated image filenames belonging to 2 classes.\n"
     ]
    },
    {
     "data": {
      "text/html": [
       "<div>\n",
       "<style scoped>\n",
       "    .dataframe tbody tr th:only-of-type {\n",
       "        vertical-align: middle;\n",
       "    }\n",
       "\n",
       "    .dataframe tbody tr th {\n",
       "        vertical-align: top;\n",
       "    }\n",
       "\n",
       "    .dataframe thead th {\n",
       "        text-align: right;\n",
       "    }\n",
       "</style>\n",
       "<table border=\"1\" class=\"dataframe\">\n",
       "  <thead>\n",
       "    <tr style=\"text-align: right;\">\n",
       "      <th></th>\n",
       "      <th>Unnamed: 0</th>\n",
       "      <th>file_name</th>\n",
       "      <th>label</th>\n",
       "    </tr>\n",
       "  </thead>\n",
       "  <tbody>\n",
       "    <tr>\n",
       "      <th>23023</th>\n",
       "      <td>23023</td>\n",
       "      <td>train_data/061ae7c248dc4ee783d75147c3d7cb81.jpg</td>\n",
       "      <td>0</td>\n",
       "    </tr>\n",
       "    <tr>\n",
       "      <th>65033</th>\n",
       "      <td>65033</td>\n",
       "      <td>train_data/263b231189294ce4966559abe6977152.jpg</td>\n",
       "      <td>0</td>\n",
       "    </tr>\n",
       "    <tr>\n",
       "      <th>41549</th>\n",
       "      <td>41549</td>\n",
       "      <td>train_data/ac4e1f53a1b24dcb9a825e6850a68560.jpg</td>\n",
       "      <td>0</td>\n",
       "    </tr>\n",
       "    <tr>\n",
       "      <th>61564</th>\n",
       "      <td>61564</td>\n",
       "      <td>train_data/8be9a8e197294052951caefa11d38a1b.jpg</td>\n",
       "      <td>1</td>\n",
       "    </tr>\n",
       "    <tr>\n",
       "      <th>72781</th>\n",
       "      <td>72781</td>\n",
       "      <td>train_data/28827a35b71e48ed8981add25fc948c9.jpg</td>\n",
       "      <td>0</td>\n",
       "    </tr>\n",
       "  </tbody>\n",
       "</table>\n",
       "</div>"
      ],
      "text/plain": [
       "       Unnamed: 0                                        file_name label\n",
       "23023       23023  train_data/061ae7c248dc4ee783d75147c3d7cb81.jpg     0\n",
       "65033       65033  train_data/263b231189294ce4966559abe6977152.jpg     0\n",
       "41549       41549  train_data/ac4e1f53a1b24dcb9a825e6850a68560.jpg     0\n",
       "61564       61564  train_data/8be9a8e197294052951caefa11d38a1b.jpg     1\n",
       "72781       72781  train_data/28827a35b71e48ed8981add25fc948c9.jpg     0"
      ]
     },
     "execution_count": 43,
     "metadata": {},
     "output_type": "execute_result"
    }
   ],
   "source": [
    "from tensorflow.keras.preprocessing.image import ImageDataGenerator\n",
    "\n",
    "IMAGE_SIZE = (64,64)\n",
    "\n",
    "# Convert labels to strings\n",
    "train_df['label'] = train_df['label'].astype(str)\n",
    "val_df['label'] = val_df['label'].astype(str)\n",
    "\n",
    "# Set up the ImageDataGenerator again\n",
    "datagen = ImageDataGenerator(rescale=1./255)\n",
    "\n",
    "train_gen = datagen.flow_from_dataframe(\n",
    "    dataframe=train_df,\n",
    "    x_col='file_name',  # column name in train.csv\n",
    "    y_col='label',  # now 'label' will be strings\n",
    "    target_size=(64,64),\n",
    "    class_mode='binary',\n",
    "    batch_size=4,\n",
    "    shuffle=True\n",
    ")\n",
    "\n",
    "val_gen = datagen.flow_from_dataframe(\n",
    "    dataframe=val_df,\n",
    "    x_col='file_name',\n",
    "    y_col='label',\n",
    "    target_size=(64,64),\n",
    "    class_mode='binary',\n",
    "    batch_size=4,\n",
    "    shuffle=False\n",
    ")\n",
    "\n",
    "train_df.head()\n",
    "# image_path                              label\n",
    "# train_data/a6dcb93f596a43249135678dfcfc17ea.jpg    1\n"
   ]
  },
  {
   "cell_type": "code",
   "execution_count": 44,
   "id": "d1e9ef0e-aea9-4e66-92df-d4defa77026b",
   "metadata": {},
   "outputs": [
    {
     "name": "stdout",
     "output_type": "stream",
     "text": [
      "Model: \"model_11\"\n",
      "_________________________________________________________________\n",
      " Layer (type)                Output Shape              Param #   \n",
      "=================================================================\n",
      " Image_input (InputLayer)    [(None, 64, 64, 3)]       0         \n",
      "                                                                 \n",
      " conv2d_31 (Conv2D)          (None, 60, 60, 256)       19456     \n",
      "                                                                 \n",
      " max_pooling2d_5 (MaxPooling  (None, 30, 30, 256)      0         \n",
      " 2D)                                                             \n",
      "                                                                 \n",
      " dropout_11 (Dropout)        (None, 30, 30, 256)       0         \n",
      "                                                                 \n",
      " dense_22 (Dense)            (None, 30, 30, 128)       32896     \n",
      "                                                                 \n",
      " flatten_2 (Flatten)         (None, 115200)            0         \n",
      "                                                                 \n",
      " dense_23 (Dense)            (None, 1)                 115201    \n",
      "                                                                 \n",
      "=================================================================\n",
      "Total params: 167,553\n",
      "Trainable params: 167,553\n",
      "Non-trainable params: 0\n",
      "_________________________________________________________________\n"
     ]
    }
   ],
   "source": [
    "from tensorflow.keras.applications import Xception\n",
    "from tensorflow.keras.models import Model\n",
    "from tensorflow.keras.layers import Dense, GlobalAveragePooling2D, Dropout, Conv2D, MaxPooling2D, Input,Flatten\n",
    "\n",
    "# Input layer\n",
    "img_input = Input(shape=(64,64, 3), name='Image_input')\n",
    "\n",
    "# Custom CNN layers\n",
    "x = Conv2D(256, kernel_size=5, activation='relu')(img_input)\n",
    "x = MaxPooling2D()(x)\n",
    "x = Dropout(0.3)(x)\n",
    "x = Dense(128, activation='relu')(x)\n",
    "\n",
    "# Global average pooling to flatten the tensor\n",
    "x = Flatten()(x)\n",
    "\n",
    "# Output layer\n",
    "output = Dense(1, activation='sigmoid')(x)\n",
    "\n",
    "# Model creation\n",
    "model = Model(inputs=img_input, outputs=output)\n",
    "\n",
    "# Model summary\n",
    "model.summary()\n",
    "\n"
   ]
  },
  {
   "cell_type": "code",
   "execution_count": 45,
   "id": "10691813-e415-4ea8-a99e-e1a593b8638b",
   "metadata": {},
   "outputs": [
    {
     "name": "stdout",
     "output_type": "stream",
     "text": [
      "Epoch 1/20\n",
      "15990/15990 [==============================] - 724s 45ms/step - loss: 0.2923 - accuracy: 0.8816 - val_loss: 0.2480 - val_accuracy: 0.8929\n",
      "Epoch 2/20\n",
      "15990/15990 [==============================] - 232s 14ms/step - loss: 0.2231 - accuracy: 0.9136 - val_loss: 0.3576 - val_accuracy: 0.8393\n",
      "Epoch 3/20\n",
      "15990/15990 [==============================] - 235s 15ms/step - loss: 0.2001 - accuracy: 0.9251 - val_loss: 0.4455 - val_accuracy: 0.8136\n",
      "Epoch 4/20\n",
      "15990/15990 [==============================] - 239s 15ms/step - loss: 0.1844 - accuracy: 0.9307 - val_loss: 0.2139 - val_accuracy: 0.9114\n",
      "Epoch 5/20\n",
      "15990/15990 [==============================] - 240s 15ms/step - loss: 0.1695 - accuracy: 0.9364 - val_loss: 0.2254 - val_accuracy: 0.9074\n",
      "Epoch 6/20\n",
      "15990/15990 [==============================] - 239s 15ms/step - loss: 0.1574 - accuracy: 0.9414 - val_loss: 0.2649 - val_accuracy: 0.8919\n",
      "Epoch 7/20\n",
      "15990/15990 [==============================] - 238s 15ms/step - loss: 0.1458 - accuracy: 0.9451 - val_loss: 0.2097 - val_accuracy: 0.9158\n",
      "Epoch 8/20\n",
      "15990/15990 [==============================] - 240s 15ms/step - loss: 0.1357 - accuracy: 0.9482 - val_loss: 0.2106 - val_accuracy: 0.9213\n",
      "Epoch 9/20\n",
      "15990/15990 [==============================] - 241s 15ms/step - loss: 0.1261 - accuracy: 0.9527 - val_loss: 0.2340 - val_accuracy: 0.9108\n",
      "Epoch 10/20\n",
      "15990/15990 [==============================] - 244s 15ms/step - loss: 0.1172 - accuracy: 0.9561 - val_loss: 0.2313 - val_accuracy: 0.9128\n",
      "Epoch 11/20\n",
      "15990/15990 [==============================] - 244s 15ms/step - loss: 0.1078 - accuracy: 0.9596 - val_loss: 0.2143 - val_accuracy: 0.9194\n",
      "Epoch 12/20\n",
      "15990/15990 [==============================] - 242s 15ms/step - loss: 0.0997 - accuracy: 0.9629 - val_loss: 0.2036 - val_accuracy: 0.9270\n",
      "Epoch 13/20\n",
      "15990/15990 [==============================] - 242s 15ms/step - loss: 0.0921 - accuracy: 0.9657 - val_loss: 0.2017 - val_accuracy: 0.9303\n",
      "Epoch 14/20\n",
      "15990/15990 [==============================] - 242s 15ms/step - loss: 0.0849 - accuracy: 0.9685 - val_loss: 0.2298 - val_accuracy: 0.9220\n",
      "Epoch 15/20\n",
      "15990/15990 [==============================] - 242s 15ms/step - loss: 0.0782 - accuracy: 0.9714 - val_loss: 0.2234 - val_accuracy: 0.9199\n",
      "Epoch 16/20\n",
      "15990/15990 [==============================] - 244s 15ms/step - loss: 0.0727 - accuracy: 0.9738 - val_loss: 0.2176 - val_accuracy: 0.9266\n",
      "Epoch 17/20\n",
      "15990/15990 [==============================] - 249s 16ms/step - loss: 0.0678 - accuracy: 0.9754 - val_loss: 0.2155 - val_accuracy: 0.9300\n",
      "Epoch 18/20\n",
      "15990/15990 [==============================] - 243s 15ms/step - loss: 0.0620 - accuracy: 0.9778 - val_loss: 0.2369 - val_accuracy: 0.9268\n",
      "Epoch 19/20\n",
      "15990/15990 [==============================] - 243s 15ms/step - loss: 0.0582 - accuracy: 0.9789 - val_loss: 0.2320 - val_accuracy: 0.9265\n",
      "Epoch 20/20\n",
      "15990/15990 [==============================] - 245s 15ms/step - loss: 0.0544 - accuracy: 0.9799 - val_loss: 0.2567 - val_accuracy: 0.9247\n"
     ]
    }
   ],
   "source": [
    "from tensorflow.keras.optimizers import Adam\n",
    "\n",
    "model.compile(optimizer=Adam(1e-4), loss='binary_crossentropy', metrics=['accuracy'])\n",
    "\n",
    "history = model.fit(train_gen, validation_data=val_gen, epochs=20)\n"
   ]
  },
  {
   "cell_type": "code",
   "execution_count": 46,
   "id": "b06d2a43-afff-4366-a9d7-1f622c7fdc98",
   "metadata": {},
   "outputs": [],
   "source": [
    "model.save(\"ai_vs_human_image.h5\")"
   ]
  },
  {
   "cell_type": "code",
   "execution_count": null,
   "id": "409880d1-7f56-4a36-966c-8a9df930280a",
   "metadata": {},
   "outputs": [],
   "source": []
  }
 ],
 "metadata": {
  "kernelspec": {
   "display_name": "Python 3 (ipykernel)",
   "language": "python",
   "name": "python3"
  },
  "language_info": {
   "codemirror_mode": {
    "name": "ipython",
    "version": 3
   },
   "file_extension": ".py",
   "mimetype": "text/x-python",
   "name": "python",
   "nbconvert_exporter": "python",
   "pygments_lexer": "ipython3",
   "version": "3.9.20"
  }
 },
 "nbformat": 4,
 "nbformat_minor": 5
}
